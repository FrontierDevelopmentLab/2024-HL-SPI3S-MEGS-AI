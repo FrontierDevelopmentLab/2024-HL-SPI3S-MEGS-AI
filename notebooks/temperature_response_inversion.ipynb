{
 "cells": [
  {
   "cell_type": "code",
   "execution_count": null,
   "metadata": {},
   "outputs": [],
   "source": []
  },
  {
   "cell_type": "code",
   "execution_count": null,
   "metadata": {},
   "outputs": [],
   "source": []
  },
  {
   "cell_type": "code",
   "execution_count": null,
   "metadata": {},
   "outputs": [],
   "source": [
    "import sys\n",
    "import torch\n",
    "sys.path.append(\"../\")\n",
    "from irradiance.utilities.temperature_response import TemperatureResponse\n",
    "\n",
    "device = torch.device(\"cuda\" if torch.cuda.is_available() else \"cpu\")"
   ]
  },
  {
   "cell_type": "code",
   "execution_count": null,
   "metadata": {},
   "outputs": [],
   "source": [
    "temp_res = TemperatureResponse(temp_resp_path='/home/andres_munoz_j/2024-HL-SPI3S-MEGS-AI/irradiance/data/aia_temp_resp.genx')"
   ]
  },
  {
   "cell_type": "code",
   "execution_count": null,
   "metadata": {},
   "outputs": [],
   "source": [
    "n_channels = len(temp_res.response)\n",
    "temp_intervals = torch.linspace(temp_res.response[94]['log_T'][0], temp_res.response[94]['log_T'][-1], n_channels+1).to(device)\n",
    "dT = torch.pow(10, temp_intervals[1:])-torch.pow(10, temp_intervals[0:-1])\n",
    "temp_intervals\n"
   ]
  },
  {
   "cell_type": "code",
   "execution_count": null,
   "metadata": {},
   "outputs": [],
   "source": [
    "dem_matrix = torch.zeros((n_channels, n_channels)).to(device)\n",
    "dem_matrix"
   ]
  },
  {
   "cell_type": "code",
   "execution_count": 62,
   "metadata": {},
   "outputs": [
    {
     "name": "stdout",
     "output_type": "stream",
     "text": [
      "tensor([1.2155e-36, 1.2144e-30, 8.2339e-29, 3.0902e-27, 1.0556e-26, 6.4099e-29,\n",
      "        4.0255e-29, 2.2748e-29], device='cuda:0')\n",
      "0 tensor(4., device='cuda:0')\n",
      "tensor(1.2155e-36, device='cuda:0')\n",
      "1 tensor(4.7143, device='cuda:0')\n",
      "tensor(1.2144e-30, device='cuda:0')\n",
      "2 tensor(5.4286, device='cuda:0')\n",
      "tensor(8.2339e-29, device='cuda:0')\n",
      "3 tensor(6.1429, device='cuda:0')\n",
      "tensor(3.0902e-27, device='cuda:0')\n",
      "4 tensor(6.8571, device='cuda:0')\n",
      "tensor(1.0556e-26, device='cuda:0')\n",
      "5 tensor(7.5714, device='cuda:0')\n",
      "tensor(6.4099e-29, device='cuda:0')\n",
      "6 tensor(8.2857, device='cuda:0')\n",
      "tensor(2.2748e-29, device='cuda:0')\n",
      "tensor([9.2337e-37, 6.4485e-31, 1.5009e-26, 1.2560e-26, 5.9606e-27, 9.2362e-28,\n",
      "        4.2214e-28, 2.3546e-28], device='cuda:0')\n",
      "0 tensor(4., device='cuda:0')\n",
      "tensor(9.2337e-37, device='cuda:0')\n",
      "1 tensor(4.7143, device='cuda:0')\n",
      "tensor(6.4485e-31, device='cuda:0')\n",
      "2 tensor(5.4286, device='cuda:0')\n",
      "tensor(1.5009e-26, device='cuda:0')\n",
      "3 tensor(6.1429, device='cuda:0')\n",
      "tensor(1.2560e-26, device='cuda:0')\n",
      "4 tensor(6.8571, device='cuda:0')\n",
      "tensor(5.9606e-27, device='cuda:0')\n",
      "5 tensor(7.5714, device='cuda:0')\n",
      "tensor(9.2362e-28, device='cuda:0')\n",
      "6 tensor(8.2857, device='cuda:0')\n",
      "tensor(2.3546e-28, device='cuda:0')\n",
      "tensor([1.3814e-31, 3.7731e-27, 1.6520e-25, 8.7256e-25, 1.4794e-27, 6.0984e-28,\n",
      "        3.4780e-28, 1.9197e-28], device='cuda:0')\n",
      "0 tensor(4., device='cuda:0')\n",
      "tensor(1.3814e-31, device='cuda:0')\n",
      "1 tensor(4.7143, device='cuda:0')\n",
      "tensor(3.7731e-27, device='cuda:0')\n",
      "2 tensor(5.4286, device='cuda:0')\n",
      "tensor(1.6520e-25, device='cuda:0')\n",
      "3 tensor(6.1429, device='cuda:0')\n",
      "tensor(8.7256e-25, device='cuda:0')\n",
      "4 tensor(6.8571, device='cuda:0')\n",
      "tensor(1.4794e-27, device='cuda:0')\n",
      "5 tensor(7.5714, device='cuda:0')\n",
      "tensor(6.0984e-28, device='cuda:0')\n",
      "6 tensor(8.2857, device='cuda:0')\n",
      "tensor(1.9197e-28, device='cuda:0')\n",
      "tensor([1.4584e-31, 3.8101e-27, 2.8477e-25, 1.4572e-24, 1.1173e-26, 2.1547e-26,\n",
      "        6.5073e-28, 2.9672e-28], device='cuda:0')\n",
      "0 tensor(4., device='cuda:0')\n",
      "tensor(1.4584e-31, device='cuda:0')\n",
      "1 tensor(4.7143, device='cuda:0')\n",
      "tensor(3.8101e-27, device='cuda:0')\n",
      "2 tensor(5.4286, device='cuda:0')\n",
      "tensor(2.8477e-25, device='cuda:0')\n",
      "3 tensor(6.1429, device='cuda:0')\n",
      "tensor(1.4572e-24, device='cuda:0')\n",
      "4 tensor(6.8571, device='cuda:0')\n",
      "tensor(1.1173e-26, device='cuda:0')\n",
      "5 tensor(7.5714, device='cuda:0')\n",
      "tensor(2.1547e-26, device='cuda:0')\n",
      "6 tensor(8.2857, device='cuda:0')\n",
      "tensor(2.9672e-28, device='cuda:0')\n",
      "tensor([1.0170e-31, 2.7588e-27, 7.8724e-26, 2.1586e-25, 2.8462e-27, 6.8009e-28,\n",
      "        3.5283e-28, 1.9345e-28], device='cuda:0')\n",
      "0 tensor(4., device='cuda:0')\n",
      "tensor(1.0170e-31, device='cuda:0')\n",
      "1 tensor(4.7143, device='cuda:0')\n",
      "tensor(2.7588e-27, device='cuda:0')\n",
      "2 tensor(5.4286, device='cuda:0')\n",
      "tensor(7.8724e-26, device='cuda:0')\n",
      "3 tensor(6.1429, device='cuda:0')\n",
      "tensor(2.1586e-25, device='cuda:0')\n",
      "4 tensor(6.8571, device='cuda:0')\n",
      "tensor(2.8462e-27, device='cuda:0')\n",
      "5 tensor(7.5714, device='cuda:0')\n",
      "tensor(6.8009e-28, device='cuda:0')\n",
      "6 tensor(8.2857, device='cuda:0')\n",
      "tensor(1.9345e-28, device='cuda:0')\n",
      "tensor([6.3443e-32, 1.2099e-25, 1.2102e-25, 2.1707e-26, 1.5135e-27, 1.5500e-28,\n",
      "        3.2192e-29, 1.1491e-29], device='cuda:0')\n",
      "0 tensor(4., device='cuda:0')\n",
      "tensor(6.3443e-32, device='cuda:0')\n",
      "1 tensor(4.7143, device='cuda:0')\n",
      "tensor(1.2099e-25, device='cuda:0')\n",
      "2 tensor(5.4286, device='cuda:0')\n",
      "tensor(1.2102e-25, device='cuda:0')\n",
      "3 tensor(6.1429, device='cuda:0')\n",
      "tensor(2.1707e-26, device='cuda:0')\n",
      "4 tensor(6.8571, device='cuda:0')\n",
      "tensor(1.5135e-27, device='cuda:0')\n",
      "5 tensor(7.5714, device='cuda:0')\n",
      "tensor(1.5500e-28, device='cuda:0')\n",
      "6 tensor(8.2857, device='cuda:0')\n",
      "tensor(1.1491e-29, device='cuda:0')\n",
      "tensor([5.2804e-32, 1.5964e-27, 1.5438e-26, 8.0011e-27, 1.4705e-27, 5.5655e-29,\n",
      "        2.7779e-29, 1.5242e-29], device='cuda:0')\n",
      "0 tensor(4., device='cuda:0')\n",
      "tensor(5.2804e-32, device='cuda:0')\n",
      "1 tensor(4.7143, device='cuda:0')\n",
      "tensor(1.5964e-27, device='cuda:0')\n",
      "2 tensor(5.4286, device='cuda:0')\n",
      "tensor(1.5438e-26, device='cuda:0')\n",
      "3 tensor(6.1429, device='cuda:0')\n",
      "tensor(8.0011e-27, device='cuda:0')\n",
      "4 tensor(6.8571, device='cuda:0')\n",
      "tensor(1.4705e-27, device='cuda:0')\n",
      "5 tensor(7.5714, device='cuda:0')\n",
      "tensor(5.5655e-29, device='cuda:0')\n",
      "6 tensor(8.2857, device='cuda:0')\n",
      "tensor(1.5242e-29, device='cuda:0')\n"
     ]
    }
   ],
   "source": [
    "for i, wavelength in enumerate(temp_res.response.keys()):\n",
    "    # print(i)\n",
    "    interpolator = temp_res.response[wavelength]['interpolator'](temp_intervals)\n",
    "    print(interpolator)\n",
    "    for j in range(n_channels):\n",
    "        print(j, temp_intervals[j])\n",
    "        if j==0:\n",
    "            dem_matrix[i,j] = dT[j]*interpolator[0]/2\n",
    "            print(interpolator[0])\n",
    "        elif j==n_channels-1:\n",
    "            dem_matrix[i,j] = dT[j]*interpolator[-1]/2\n",
    "            print(interpolator[-1])\n",
    "        else:\n",
    "            dem_matrix[i,j] = (dT[j-1]+dT[j])*interpolator[j-1]/2\n",
    "            print(interpolator[j])"
   ]
  },
  {
   "cell_type": "code",
   "execution_count": null,
   "metadata": {},
   "outputs": [],
   "source": [
    "dem_matrix"
   ]
  },
  {
   "cell_type": "code",
   "execution_count": null,
   "metadata": {},
   "outputs": [],
   "source": [
    "torch.linalg.inv(dem_matrix)"
   ]
  }
 ],
 "metadata": {
  "kernelspec": {
   "display_name": "fdl22",
   "language": "python",
   "name": "python3"
  },
  "language_info": {
   "codemirror_mode": {
    "name": "ipython",
    "version": 3
   },
   "file_extension": ".py",
   "mimetype": "text/x-python",
   "name": "python",
   "nbconvert_exporter": "python",
   "pygments_lexer": "ipython3",
   "version": "3.10.14"
  }
 },
 "nbformat": 4,
 "nbformat_minor": 2
}
