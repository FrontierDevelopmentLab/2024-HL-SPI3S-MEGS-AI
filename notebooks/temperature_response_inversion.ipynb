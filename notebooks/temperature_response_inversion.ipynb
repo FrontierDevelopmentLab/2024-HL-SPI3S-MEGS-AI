{
 "cells": [
  {
   "cell_type": "code",
   "execution_count": null,
   "metadata": {},
   "outputs": [],
   "source": []
  },
  {
   "cell_type": "code",
   "execution_count": null,
   "metadata": {},
   "outputs": [],
   "source": []
  },
  {
   "cell_type": "code",
   "execution_count": null,
   "metadata": {},
   "outputs": [],
   "source": [
    "import sys\n",
    "import torch\n",
    "sys.path.append(\"../\")\n",
    "from irradiance.utilities.temperature_response import TemperatureResponse\n",
    "\n",
    "device = torch.device(\"cuda\" if torch.cuda.is_available() else \"cpu\")"
   ]
  },
  {
   "cell_type": "code",
   "execution_count": null,
   "metadata": {},
   "outputs": [],
   "source": [
    "temp_res = TemperatureResponse(temp_resp_path='/home/andres_munoz_j/2024-HL-SPI3S-MEGS-AI/irradiance/data/aia_temp_resp.genx')"
   ]
  },
  {
   "cell_type": "code",
   "execution_count": 68,
   "metadata": {},
   "outputs": [
    {
     "data": {
      "text/plain": [
       "7"
      ]
     },
     "execution_count": 68,
     "metadata": {},
     "output_type": "execute_result"
    }
   ],
   "source": [
    "n_channels = len(temp_res.response)\n",
    "temp_intervals = torch.linspace(temp_res.response[94]['log_T'][0], temp_res.response[94]['log_T'][-1], n_channels).to(device)\n",
    "dT = torch.pow(10, temp_intervals[1:])-torch.pow(10, temp_intervals[0:-1])\n",
    "temp_intervals.shape"
   ]
  },
  {
   "cell_type": "code",
   "execution_count": 69,
   "metadata": {},
   "outputs": [
    {
     "data": {
      "text/plain": [
       "torch.Size([7, 7])"
      ]
     },
     "execution_count": 69,
     "metadata": {},
     "output_type": "execute_result"
    }
   ],
   "source": [
    "dem_matrix = torch.zeros((n_channels, n_channels)).to(device)\n",
    "dem_matrix.shape"
   ]
  },
  {
   "cell_type": "code",
   "execution_count": 76,
   "metadata": {},
   "outputs": [
    {
     "name": "stdout",
     "output_type": "stream",
     "text": [
      "tensor([1.2155e-36, 4.8358e-30, 1.1396e-27, 1.1031e-27, 8.0656e-29, 4.3767e-29,\n",
      "        2.2748e-29], device='cuda:0')\n",
      "0 tensor(4., device='cuda:0')\n",
      "tensor(1.2155e-36, device='cuda:0')\n",
      "1 tensor(4.8333, device='cuda:0')\n",
      "tensor(4.8358e-30, device='cuda:0')\n",
      "2 tensor(5.6667, device='cuda:0')\n",
      "tensor(1.1396e-27, device='cuda:0')\n",
      "3 tensor(6.5000, device='cuda:0')\n",
      "tensor(1.1031e-27, device='cuda:0')\n",
      "4 tensor(7.3333, device='cuda:0')\n",
      "tensor(8.0656e-29, device='cuda:0')\n",
      "5 tensor(8.1667, device='cuda:0')\n",
      "tensor(4.3767e-29, device='cuda:0')\n",
      "6 tensor(9., device='cuda:0')\n",
      "tensor(2.2748e-29, device='cuda:0')\n",
      "tensor([9.2337e-37, 6.9564e-30, 1.4062e-25, 2.1557e-27, 3.6115e-27, 4.6069e-28,\n",
      "        2.3546e-28], device='cuda:0')\n",
      "0 tensor(4., device='cuda:0')\n",
      "tensor(9.2337e-37, device='cuda:0')\n",
      "1 tensor(4.8333, device='cuda:0')\n",
      "tensor(6.9564e-30, device='cuda:0')\n",
      "2 tensor(5.6667, device='cuda:0')\n",
      "tensor(1.4062e-25, device='cuda:0')\n",
      "3 tensor(6.5000, device='cuda:0')\n",
      "tensor(2.1557e-27, device='cuda:0')\n",
      "4 tensor(7.3333, device='cuda:0')\n",
      "tensor(3.6115e-27, device='cuda:0')\n",
      "5 tensor(8.1667, device='cuda:0')\n",
      "tensor(4.6069e-28, device='cuda:0')\n",
      "6 tensor(9., device='cuda:0')\n",
      "tensor(2.3546e-28, device='cuda:0')\n",
      "tensor([1.3814e-31, 1.1272e-26, 6.3002e-25, 1.1455e-26, 7.7014e-28, 3.8045e-28,\n",
      "        1.9197e-28], device='cuda:0')\n",
      "0 tensor(4., device='cuda:0')\n",
      "tensor(1.3814e-31, device='cuda:0')\n",
      "1 tensor(4.8333, device='cuda:0')\n",
      "tensor(1.1272e-26, device='cuda:0')\n",
      "2 tensor(5.6667, device='cuda:0')\n",
      "tensor(6.3002e-25, device='cuda:0')\n",
      "3 tensor(6.5000, device='cuda:0')\n",
      "tensor(1.1455e-26, device='cuda:0')\n",
      "4 tensor(7.3333, device='cuda:0')\n",
      "tensor(7.7014e-28, device='cuda:0')\n",
      "5 tensor(8.1667, device='cuda:0')\n",
      "tensor(3.8045e-28, device='cuda:0')\n",
      "6 tensor(9., device='cuda:0')\n",
      "tensor(1.9197e-28, device='cuda:0')\n",
      "tensor([1.4584e-31, 1.1803e-26, 2.6945e-25, 2.0594e-26, 4.4762e-26, 9.4927e-28,\n",
      "        2.9672e-28], device='cuda:0')\n",
      "0 tensor(4., device='cuda:0')\n",
      "tensor(1.4584e-31, device='cuda:0')\n",
      "1 tensor(4.8333, device='cuda:0')\n",
      "tensor(1.1803e-26, device='cuda:0')\n",
      "2 tensor(5.6667, device='cuda:0')\n",
      "tensor(2.6945e-25, device='cuda:0')\n",
      "3 tensor(6.5000, device='cuda:0')\n",
      "tensor(2.0594e-26, device='cuda:0')\n",
      "4 tensor(7.3333, device='cuda:0')\n",
      "tensor(4.4762e-26, device='cuda:0')\n",
      "5 tensor(8.1667, device='cuda:0')\n",
      "tensor(9.4927e-28, device='cuda:0')\n",
      "6 tensor(9., device='cuda:0')\n",
      "tensor(2.9672e-28, device='cuda:0')\n",
      "tensor([1.0170e-31, 9.3898e-27, 4.8984e-26, 3.2760e-26, 8.9930e-28, 3.8700e-28,\n",
      "        1.9345e-28], device='cuda:0')\n",
      "0 tensor(4., device='cuda:0')\n",
      "tensor(1.0170e-31, device='cuda:0')\n",
      "1 tensor(4.8333, device='cuda:0')\n",
      "tensor(9.3898e-27, device='cuda:0')\n",
      "2 tensor(5.6667, device='cuda:0')\n",
      "tensor(4.8984e-26, device='cuda:0')\n",
      "3 tensor(6.5000, device='cuda:0')\n",
      "tensor(3.2760e-26, device='cuda:0')\n",
      "4 tensor(7.3333, device='cuda:0')\n",
      "tensor(8.9930e-28, device='cuda:0')\n",
      "5 tensor(8.1667, device='cuda:0')\n",
      "tensor(3.8700e-28, device='cuda:0')\n",
      "6 tensor(9., device='cuda:0')\n",
      "tensor(1.9345e-28, device='cuda:0')\n",
      "tensor([6.3443e-32, 7.5900e-25, 3.8537e-26, 4.0822e-27, 3.0108e-28, 4.0042e-29,\n",
      "        1.1491e-29], device='cuda:0')\n",
      "0 tensor(4., device='cuda:0')\n",
      "tensor(6.3443e-32, device='cuda:0')\n",
      "1 tensor(4.8333, device='cuda:0')\n",
      "tensor(7.5900e-25, device='cuda:0')\n",
      "2 tensor(5.6667, device='cuda:0')\n",
      "tensor(3.8537e-26, device='cuda:0')\n",
      "3 tensor(6.5000, device='cuda:0')\n",
      "tensor(4.0822e-27, device='cuda:0')\n",
      "4 tensor(7.3333, device='cuda:0')\n",
      "tensor(3.0108e-28, device='cuda:0')\n",
      "5 tensor(8.1667, device='cuda:0')\n",
      "tensor(4.0042e-29, device='cuda:0')\n",
      "6 tensor(9., device='cuda:0')\n",
      "tensor(1.1491e-29, device='cuda:0')\n",
      "tensor([5.2804e-32, 5.4822e-27, 8.9929e-27, 1.1222e-26, 1.5231e-28, 3.0425e-29,\n",
      "        1.5242e-29], device='cuda:0')\n",
      "0 tensor(4., device='cuda:0')\n",
      "tensor(5.2804e-32, device='cuda:0')\n",
      "1 tensor(4.8333, device='cuda:0')\n",
      "tensor(5.4822e-27, device='cuda:0')\n",
      "2 tensor(5.6667, device='cuda:0')\n",
      "tensor(8.9929e-27, device='cuda:0')\n",
      "3 tensor(6.5000, device='cuda:0')\n",
      "tensor(1.1222e-26, device='cuda:0')\n",
      "4 tensor(7.3333, device='cuda:0')\n",
      "tensor(1.5231e-28, device='cuda:0')\n",
      "5 tensor(8.1667, device='cuda:0')\n",
      "tensor(3.0425e-29, device='cuda:0')\n",
      "6 tensor(9., device='cuda:0')\n",
      "tensor(1.5242e-29, device='cuda:0')\n"
     ]
    }
   ],
   "source": [
    "for i, wavelength in enumerate(temp_res.response.keys()):\n",
    "    # print(i)\n",
    "    interpolator = temp_res.response[wavelength]['interpolator'](temp_intervals)\n",
    "    print(interpolator)\n",
    "    for j in range(n_channels):\n",
    "        print(j, temp_intervals[j])\n",
    "        if j==0:\n",
    "            dem_matrix[i,j] = dT[0]*interpolator[0]/2\n",
    "            print(interpolator[0])\n",
    "        elif j==n_channels-1:\n",
    "            dem_matrix[i,j] = dT[j-1]*interpolator[j]/2\n",
    "            print(interpolator[j])\n",
    "        else:\n",
    "            dem_matrix[i,j] = (dT[j-1]+dT[j])*interpolator[j]/2\n",
    "            print(interpolator[j])"
   ]
  },
  {
   "cell_type": "code",
   "execution_count": 77,
   "metadata": {},
   "outputs": [
    {
     "data": {
      "text/plain": [
       "tensor([[ 4.0173e+28, -2.1582e+27,  5.2815e+26,  1.4035e+26, -3.2403e+27,\n",
       "         -7.2344e+24,  5.1307e+27],\n",
       "        [-3.7959e+20,  2.3080e+19, -5.7203e+18, -1.5319e+18,  2.7425e+19,\n",
       "          5.8675e+18, -4.0665e+19],\n",
       "        [-1.7791e+20,  9.4072e+18, -1.2262e+18, -6.1348e+17,  1.3253e+19,\n",
       "          1.3888e+16, -2.0636e+19],\n",
       "        [-5.4087e+20,  2.8798e+19, -7.1557e+18, -1.8926e+18,  4.3226e+19,\n",
       "          3.2667e+16, -5.9331e+19],\n",
       "        [-1.9242e+20,  1.3735e+19, -3.1539e+18, -5.7557e+17,  1.0782e+19,\n",
       "          2.4031e+15, -1.0923e+19],\n",
       "        [ 2.8475e+21, -2.1400e+20,  4.6605e+19,  1.3944e+19, -1.5249e+20,\n",
       "         -6.9311e+14,  1.3319e+20],\n",
       "        [-5.3846e+21,  4.2777e+20, -9.2152e+19, -2.8044e+19,  2.7584e+20,\n",
       "         -4.2206e+16, -2.1254e+20]], device='cuda:0')"
      ]
     },
     "execution_count": 77,
     "metadata": {},
     "output_type": "execute_result"
    }
   ],
   "source": [
    "torch.linalg.inv(dem_matrix)"
   ]
  }
 ],
 "metadata": {
  "kernelspec": {
   "display_name": "fdl22",
   "language": "python",
   "name": "python3"
  },
  "language_info": {
   "codemirror_mode": {
    "name": "ipython",
    "version": 3
   },
   "file_extension": ".py",
   "mimetype": "text/x-python",
   "name": "python",
   "nbconvert_exporter": "python",
   "pygments_lexer": "ipython3",
   "version": "3.10.14"
  }
 },
 "nbformat": 4,
 "nbformat_minor": 2
}
